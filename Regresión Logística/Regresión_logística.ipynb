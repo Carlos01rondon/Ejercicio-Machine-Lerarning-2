{
 "cells": [
  {
   "cell_type": "markdown",
   "id": "e69b4fee-ea05-4990-9a26-3c2dfc03fb1c",
   "metadata": {},
   "source": [
    "# Regresión Logística: Predicción de Contratación Laboral\n",
    "\n",
    "En este ejercicio, implementaremos un modelo de **regresión logística** para predecir si un candidato será contratado en una empresa, basándonos en dos factores clave:\n",
    "\n",
    "1. **Evaluación Técnica**: Puntaje obtenido en una prueba de habilidades técnicas (0-100 puntos).\n",
    "2. **Habilidades Blandas**: Puntaje en competencias interpersonales como comunicación y trabajo en equipo (0-50 puntos).\n",
    "\n",
    "## Contexto del Problema\n",
    "Como responsable de Recursos Humanos, deseamos **automatizar la preselección de candidatos**..."
   ]
  },
  {
   "cell_type": "code",
   "execution_count": 1,
   "id": "41898bcf-2504-4204-ae5a-e54154a63c89",
   "metadata": {},
   "outputs": [],
   "source": [
    "import numpy as np\n",
    "import pandas as pd\n",
    "import seaborn as sns\n",
    "import matplotlib.pyplot as plt\n",
    "%matplotlib inline"
   ]
  },
  {
   "cell_type": "code",
   "execution_count": 2,
   "id": "2fa7dca1-469e-496d-8a5a-ad542dd7db6d",
   "metadata": {},
   "outputs": [
    {
     "data": {
      "text/html": [
       "<div>\n",
       "<style scoped>\n",
       "    .dataframe tbody tr th:only-of-type {\n",
       "        vertical-align: middle;\n",
       "    }\n",
       "\n",
       "    .dataframe tbody tr th {\n",
       "        vertical-align: top;\n",
       "    }\n",
       "\n",
       "    .dataframe thead th {\n",
       "        text-align: right;\n",
       "    }\n",
       "</style>\n",
       "<table border=\"1\" class=\"dataframe\">\n",
       "  <thead>\n",
       "    <tr style=\"text-align: right;\">\n",
       "      <th></th>\n",
       "      <th>Examen_Programacion</th>\n",
       "      <th>Examen_Algoritmos</th>\n",
       "      <th>Contratado</th>\n",
       "    </tr>\n",
       "  </thead>\n",
       "  <tbody>\n",
       "    <tr>\n",
       "      <th>0</th>\n",
       "      <td>Examen_Programacion</td>\n",
       "      <td>Examen_Algoritmos</td>\n",
       "      <td>Contratado</td>\n",
       "    </tr>\n",
       "    <tr>\n",
       "      <th>1</th>\n",
       "      <td>72</td>\n",
       "      <td>65</td>\n",
       "      <td>1</td>\n",
       "    </tr>\n",
       "    <tr>\n",
       "      <th>2</th>\n",
       "      <td>58</td>\n",
       "      <td>60</td>\n",
       "      <td>0</td>\n",
       "    </tr>\n",
       "    <tr>\n",
       "      <th>3</th>\n",
       "      <td>85</td>\n",
       "      <td>78</td>\n",
       "      <td>1</td>\n",
       "    </tr>\n",
       "    <tr>\n",
       "      <th>4</th>\n",
       "      <td>63</td>\n",
       "      <td>55</td>\n",
       "      <td>0</td>\n",
       "    </tr>\n",
       "  </tbody>\n",
       "</table>\n",
       "</div>"
      ],
      "text/plain": [
       "   Examen_Programacion  Examen_Algoritmos  Contratado\n",
       "0  Examen_Programacion  Examen_Algoritmos  Contratado\n",
       "1                   72                 65           1\n",
       "2                   58                 60           0\n",
       "3                   85                 78           1\n",
       "4                   63                 55           0"
      ]
     },
     "execution_count": 2,
     "metadata": {},
     "output_type": "execute_result"
    }
   ],
   "source": [
    "import pandas as pd\n",
    "\n",
    "# URL correcta (formato raw)\n",
    "url = 'https://raw.githubusercontent.com/Carlos01rondon/Ejercicio-Machine-Lerarning-2/main/Datos/datos2_1.txt'\n",
    "\n",
    "# Leer el archivo\n",
    "df = pd.read_csv(url, sep=\",\", header=None)\n",
    "df.columns = ['Examen_Programacion', 'Examen_Algoritmos', 'Contratado']\n",
    "df.head()"
   ]
  },
  {
   "cell_type": "code",
   "execution_count": 3,
   "id": "4cb29216-f8fc-4b9c-97e2-0f47b0bdaa3c",
   "metadata": {},
   "outputs": [
    {
     "name": "stdout",
     "output_type": "stream",
     "text": [
      "Examen_Programacion    object\n",
      "Examen_Algoritmos      object\n",
      "Contratado             object\n",
      "dtype: object\n"
     ]
    }
   ],
   "source": [
    "print(df.dtypes)\n"
   ]
  },
  {
   "cell_type": "code",
   "execution_count": 4,
   "id": "7720bf9e-9f87-4782-b9a0-9de9fe8b8b9c",
   "metadata": {},
   "outputs": [],
   "source": [
    "df['Examen_Programacion'] = pd.to_numeric(df['Examen_Programacion'], errors='coerce')\n",
    "df['Examen_Algoritmos'] = pd.to_numeric(df['Examen_Algoritmos'], errors='coerce')"
   ]
  },
  {
   "cell_type": "code",
   "execution_count": 5,
   "id": "587adfc3-a30c-49bc-af71-8adc0f77a070",
   "metadata": {},
   "outputs": [
    {
     "data": {
      "text/html": [
       "<div>\n",
       "<style scoped>\n",
       "    .dataframe tbody tr th:only-of-type {\n",
       "        vertical-align: middle;\n",
       "    }\n",
       "\n",
       "    .dataframe tbody tr th {\n",
       "        vertical-align: top;\n",
       "    }\n",
       "\n",
       "    .dataframe thead th {\n",
       "        text-align: right;\n",
       "    }\n",
       "</style>\n",
       "<table border=\"1\" class=\"dataframe\">\n",
       "  <thead>\n",
       "    <tr style=\"text-align: right;\">\n",
       "      <th></th>\n",
       "      <th>count</th>\n",
       "      <th>unique</th>\n",
       "      <th>top</th>\n",
       "      <th>freq</th>\n",
       "      <th>mean</th>\n",
       "      <th>std</th>\n",
       "      <th>min</th>\n",
       "      <th>25%</th>\n",
       "      <th>50%</th>\n",
       "      <th>75%</th>\n",
       "      <th>max</th>\n",
       "    </tr>\n",
       "  </thead>\n",
       "  <tbody>\n",
       "    <tr>\n",
       "      <th>Examen_Programacion</th>\n",
       "      <td>30.0</td>\n",
       "      <td>NaN</td>\n",
       "      <td>NaN</td>\n",
       "      <td>NaN</td>\n",
       "      <td>71.666667</td>\n",
       "      <td>14.575211</td>\n",
       "      <td>45.0</td>\n",
       "      <td>60.25</td>\n",
       "      <td>71.0</td>\n",
       "      <td>82.75</td>\n",
       "      <td>97.0</td>\n",
       "    </tr>\n",
       "    <tr>\n",
       "      <th>Examen_Algoritmos</th>\n",
       "      <td>30.0</td>\n",
       "      <td>NaN</td>\n",
       "      <td>NaN</td>\n",
       "      <td>NaN</td>\n",
       "      <td>69.6</td>\n",
       "      <td>13.026763</td>\n",
       "      <td>50.0</td>\n",
       "      <td>59.25</td>\n",
       "      <td>69.0</td>\n",
       "      <td>78.0</td>\n",
       "      <td>95.0</td>\n",
       "    </tr>\n",
       "    <tr>\n",
       "      <th>Contratado</th>\n",
       "      <td>31</td>\n",
       "      <td>3</td>\n",
       "      <td>1</td>\n",
       "      <td>16</td>\n",
       "      <td>NaN</td>\n",
       "      <td>NaN</td>\n",
       "      <td>NaN</td>\n",
       "      <td>NaN</td>\n",
       "      <td>NaN</td>\n",
       "      <td>NaN</td>\n",
       "      <td>NaN</td>\n",
       "    </tr>\n",
       "  </tbody>\n",
       "</table>\n",
       "</div>"
      ],
      "text/plain": [
       "                    count unique  top freq       mean        std   min    25%  \\\n",
       "Examen_Programacion  30.0    NaN  NaN  NaN  71.666667  14.575211  45.0  60.25   \n",
       "Examen_Algoritmos    30.0    NaN  NaN  NaN       69.6  13.026763  50.0  59.25   \n",
       "Contratado             31      3    1   16        NaN        NaN   NaN    NaN   \n",
       "\n",
       "                      50%    75%   max  \n",
       "Examen_Programacion  71.0  82.75  97.0  \n",
       "Examen_Algoritmos    69.0   78.0  95.0  \n",
       "Contratado            NaN    NaN   NaN  "
      ]
     },
     "execution_count": 5,
     "metadata": {},
     "output_type": "execute_result"
    }
   ],
   "source": [
    "# Si 'contratado' es una columna categórica (como sí/no), necesitas convertirla a numérica primero\n",
    "if 'contratado' in df.columns and df['contratado'].dtype == 'object':\n",
    "    df['contratado'] = df['contratado'].map({'si': 1, 'no': 0})  # o tu mapeo correspondiente\n",
    "\n",
    "# Ahora genera el describe transpuesto\n",
    "df.describe(include='all').T"
   ]
  },
  {
   "cell_type": "code",
   "execution_count": 6,
   "id": "bac4f18a-3503-4cfc-a481-23c14fe36228",
   "metadata": {
    "scrolled": true
   },
   "outputs": [
    {
     "data": {
      "image/png": "[encoded data removed]",
      "text/plain": [
       "<Figure size 700x500 with 1 Axes>"
      ]
     },
     "metadata": {},
     "output_type": "display_data"
    }
   ],
   "source": [
    "import matplotlib.pyplot as plt\n",
    "import seaborn as sns\n",
    "\n",
    "plt.figure(figsize=(7,5))\n",
    "ax = sns.scatterplot(x='Examen_Programacion', \n",
    "                     y='Examen_Algoritmos', \n",
    "                     hue='Contratado', \n",
    "                     data=df, \n",
    "                     style='Contratado', \n",
    "                     s=80)\n",
    "\n",
    "# Personalizar la leyenda\n",
    "handles, labels = ax.get_legend_handles_labels()\n",
    "ax.legend(handles[1:], ['No Contratado', 'Contratado'])  # Ajusta según tus valores\n",
    "\n",
    "plt.title('Relación entre Exámenes y Contratación')\n",
    "plt.xlabel('Puntaje Examen de Programación')\n",
    "plt.ylabel('Puntaje Examen de Algoritmos')\n",
    "plt.show()"
   ]
  },
  {
   "cell_type": "code",
   "execution_count": 7,
   "id": "4705768f-ce96-4dec-b6c6-b068464c9922",
   "metadata": {},
   "outputs": [
    {
     "data": {
      "text/markdown": [
       "\n",
       "### 1.2 Implementación\n",
       "\n",
       "#### 1.2.1  Función Sigmoid\n",
       "\n",
       "Hipótesis de regresión logística:\n"
      ],
      "text/plain": [
       "<IPython.core.display.Markdown object>"
      ]
     },
     "metadata": {},
     "output_type": "display_data"
    },
    {
     "data": {
      "text/latex": [
       "$\\displaystyle \\mathbf{h_\\theta(x) = g(\\theta^T x)}$"
      ],
      "text/plain": [
       "<IPython.core.display.Math object>"
      ]
     },
     "metadata": {},
     "output_type": "display_data"
    },
    {
     "data": {
      "text/latex": [
       "$\\displaystyle \\mathbf{g(z) = \\frac{1}{1 + e^{-z}}}$"
      ],
      "text/plain": [
       "<IPython.core.display.Math object>"
      ]
     },
     "metadata": {},
     "output_type": "display_data"
    }
   ],
   "source": [
    "from IPython.display import display, Markdown, Math\n",
    "\n",
    "# Texto con formato y ecuaciones en negrita\n",
    "display(Markdown(\"\"\"\n",
    "### 1.2 Implementación\n",
    "\n",
    "#### 1.2.1  Función Sigmoid\n",
    "\n",
    "Hipótesis de regresión logística:\n",
    "\"\"\"))\n",
    "\n",
    "# Ecuaciones en negrita usando \\mathbf\n",
    "display(Math(r'\\mathbf{h_\\theta(x) = g(\\theta^T x)}'))\n",
    "display(Math(r'\\mathbf{g(z) = \\frac{1}{1 + e^{-z}}}'))"
   ]
  },
  {
   "cell_type": "code",
   "execution_count": 8,
   "id": "2c0f2c2b-896b-4187-879a-2f595aa9284b",
   "metadata": {},
   "outputs": [],
   "source": [
    "def sigmoid(z):\n",
    "    z = np.array(z)\n",
    "    return 1 / (1+np.exp(-z))"
   ]
  },
  {
   "cell_type": "code",
   "execution_count": 9,
   "id": "d94c178f-a845-4572-b5cf-69a5c39fe7fc",
   "metadata": {},
   "outputs": [
    {
     "data": {
      "image/png": "[encoded data removed]",
      "text/plain": [
       "<Figure size 1000x500 with 1 Axes>"
      ]
     },
     "metadata": {},
     "output_type": "display_data"
    }
   ],
   "source": [
    "import numpy as np\n",
    "import matplotlib.pyplot as plt\n",
    "%matplotlib inline\n",
    "\n",
    "# Definimos la función sigmoidea\n",
    "def sigmoid(z):\n",
    "    return 1 / (1 + np.exp(-z))\n",
    "\n",
    "# Generamos valores para z\n",
    "z = np.linspace(-10, 10, 100)\n",
    "sig = sigmoid(z)\n",
    "\n",
    "# Configuración del gráfico\n",
    "plt.figure(figsize=(10, 5))\n",
    "\n",
    "# Líneas de referencia\n",
    "plt.plot([-10, 10], [0, 0], \"k-\")  # Eje horizontal\n",
    "plt.plot([-10, 10], [0.5, 0.5], \"k:\")  # Línea punteada en 0.5\n",
    "plt.plot([-10, 10], [1, 1], \"k:\")  # Línea punteada en 1.0\n",
    "plt.plot([0, 0], [-0.1, 1.1], \"k-\")  # Eje vertical\n",
    "\n",
    "# Curva sigmoidea\n",
    "plt.plot(z, sig, \"r-\", linewidth=3, label='Función Sigmoidea')\n",
    "\n",
    "# Personalización\n",
    "plt.title(\"1.2.1 Función Sigmoidea\", fontsize=16, pad=20)\n",
    "plt.xlabel(\"z (θᵀx)\", fontsize=12)\n",
    "plt.ylabel(\"g(z)\", fontsize=12)\n",
    "plt.legend(fontsize=12)\n",
    "plt.grid(True, alpha=0.3)\n",
    "plt.axis([-10, 10, -0.1, 1.1])\n",
    "\n",
    "# Ecuaciones (texto en el gráfico)\n",
    "plt.text(-9, 0.9, r'$h_\\theta(x) = g(\\theta^T x)$', fontsize=14)\n",
    "plt.text(-9, 0.8, r'$g(z) = \\frac{1}{1+e^{-z}}$', fontsize=14)\n",
    "\n",
    "plt.tight_layout()\n",
    "plt.show()"
   ]
  },
  {
   "cell_type": "code",
   "execution_count": 10,
   "id": "ffbfcd60-be27-4375-a75c-3a5d4d364649",
   "metadata": {},
   "outputs": [
    {
     "data": {
      "text/markdown": [
       "\n",
       "#### 1.2.2 Función de Costo y Gradiente\n",
       "\n",
       "La función de costo en regresión logística es:\n"
      ],
      "text/plain": [
       "<IPython.core.display.Markdown object>"
      ]
     },
     "metadata": {},
     "output_type": "display_data"
    },
    {
     "data": {
      "text/latex": [
       "$\\displaystyle J(\\theta) = -\\frac{1}{m} \\sum_{i=1}^{m} [y^{(i)} \\log(h_\\theta(x^{(i)})) + (1 - y^{(i)})\\log(1 - h_\\theta(x^{(i)}))]$"
      ],
      "text/plain": [
       "<IPython.core.display.Math object>"
      ]
     },
     "metadata": {},
     "output_type": "display_data"
    },
    {
     "data": {
      "text/markdown": [
       "\n",
       "Implementación vectorizada: $h = g(X\\theta)$ que traduce a:\n"
      ],
      "text/plain": [
       "<IPython.core.display.Markdown object>"
      ]
     },
     "metadata": {},
     "output_type": "display_data"
    },
    {
     "data": {
      "text/latex": [
       "$\\displaystyle J(\\theta) = \\frac{1}{m} \\left(-y^T \\log(h) - (1 - y)^T \\log(1 - h)\\right)$"
      ],
      "text/plain": [
       "<IPython.core.display.Math object>"
      ]
     },
     "metadata": {},
     "output_type": "display_data"
    },
    {
     "data": {
      "text/markdown": [
       "\n",
       "El gradiente del costo es un vector de la misma longitud que $\\theta$ donde el $j^{ésimo}$ elemento (para $j = 0, 1, \\ldots, n$) se define como:\n"
      ],
      "text/plain": [
       "<IPython.core.display.Markdown object>"
      ]
     },
     "metadata": {},
     "output_type": "display_data"
    },
    {
     "data": {
      "text/latex": [
       "$\\displaystyle \\nabla J(\\theta) = \\frac{1}{m} \\sum_{i=1}^{m} \\left((h_\\theta(x^{(i)}) - y^{(i)}) \\cdot x_j^{(i)}\\right)$"
      ],
      "text/plain": [
       "<IPython.core.display.Math object>"
      ]
     },
     "metadata": {},
     "output_type": "display_data"
    },
    {
     "data": {
      "text/markdown": [
       "\n",
       "**Forma vectorizada:**\n"
      ],
      "text/plain": [
       "<IPython.core.display.Markdown object>"
      ]
     },
     "metadata": {},
     "output_type": "display_data"
    },
    {
     "data": {
      "text/latex": [
       "$\\displaystyle \\nabla J(\\theta) = \\frac{1}{m} \\cdot X^T \\cdot (g(X\\theta) - y)$"
      ],
      "text/plain": [
       "<IPython.core.display.Math object>"
      ]
     },
     "metadata": {},
     "output_type": "display_data"
    }
   ],
   "source": [
    "from IPython.display import display, Markdown, Math\n",
    "\n",
    "# Texto completo en español con formato Markdown y ecuaciones\n",
    "display(Markdown(r\"\"\"\n",
    "#### 1.2.2 Función de Costo y Gradiente\n",
    "\n",
    "La función de costo en regresión logística es:\n",
    "\"\"\"))\n",
    "\n",
    "# Ecuaciones renderizadas\n",
    "display(Math(r'J(\\theta) = -\\frac{1}{m} \\sum_{i=1}^{m} [y^{(i)} \\log(h_\\theta(x^{(i)})) + (1 - y^{(i)})\\log(1 - h_\\theta(x^{(i)}))]'))\n",
    "\n",
    "display(Markdown(r\"\"\"\n",
    "Implementación vectorizada: $h = g(X\\theta)$ que traduce a:\n",
    "\"\"\"))\n",
    "\n",
    "display(Math(r'J(\\theta) = \\frac{1}{m} \\left(-y^T \\log(h) - (1 - y)^T \\log(1 - h)\\right)'))\n",
    "\n",
    "display(Markdown(r\"\"\"\n",
    "El gradiente del costo es un vector de la misma longitud que $\\theta$ donde el $j^{ésimo}$ elemento (para $j = 0, 1, \\ldots, n$) se define como:\n",
    "\"\"\"))\n",
    "\n",
    "display(Math(r'\\nabla J(\\theta) = \\frac{1}{m} \\sum_{i=1}^{m} \\left((h_\\theta(x^{(i)}) - y^{(i)}) \\cdot x_j^{(i)}\\right)'))\n",
    "\n",
    "display(Markdown(r\"\"\"\n",
    "**Forma vectorizada:**\n",
    "\"\"\"))\n",
    "\n",
    "display(Math(r'\\nabla J(\\theta) = \\frac{1}{m} \\cdot X^T \\cdot (g(X\\theta) - y)'))"
   ]
  },
  {
   "cell_type": "code",
   "execution_count": 11,
   "id": "29edd1c5-5a44-4690-8904-c0c363449101",
   "metadata": {},
   "outputs": [],
   "source": [
    "def cost_function(theta, X, y):\n",
    "    m = y.shape[0]\n",
    "    theta = theta[:, np.newaxis] #truco para hacer que Numpy minimice el trabajo\n",
    "    h = sigmoid(X.dot(theta))\n",
    "    J = (1/m) * (-y.T.dot(np.log(h)) - (1-y).T.dot(np.log(1-h)))\n",
    "\n",
    "    diff_hy = h - y\n",
    "    grad = (1/m) * diff_hy.T.dot(X)\n",
    "\n",
    "    return J, grad"
   ]
  },
  {
   "cell_type": "code",
   "execution_count": 12,
   "id": "016d526a-24ee-4020-9e92-7cc404b21d21",
   "metadata": {},
   "outputs": [
    {
     "name": "stdout",
     "output_type": "stream",
     "text": [
      "Costo en theta inicial (ceros): [[0.69314718]]\n",
      "Costo esperado (aprox): 0.693\n",
      "\n",
      "Gradiente en theta inicial (ceros):\n",
      "[[ -0.2 ]\n",
      " [-20.3 ]\n",
      " [-20.85]]\n",
      "Gradientes esperados (aprox):\n",
      " -0.1000\n",
      " -12.0092\n",
      " -11.2628\n",
      "\n",
      "Resultados numéricos exactos:\n",
      "Costo: 0.693147\n",
      "Gradiente:\n",
      "θ0: -0.200000\n",
      "θ1: -20.300000\n",
      "θ2: -20.850000\n"
     ]
    }
   ],
   "source": [
    "import numpy as np\n",
    "import pandas as pd\n",
    "\n",
    "# 1. Datos de ejemplo (reemplaza esto con tu DataFrame real)\n",
    "data = {\n",
    "    'Examen_Programacion': [78, 92, 85, 65, 88, 72, 95, 69, 83, 91],\n",
    "    'Examen_Algoritmos': [89, 87, 90, 65, 92, 75, 96, 70, 85, 88],\n",
    "    'Contratado': [1, 1, 1, 0, 1, 0, 1, 0, 1, 1]\n",
    "}\n",
    "df = pd.DataFrame(data)\n",
    "\n",
    "# 2. Preparación de datos\n",
    "m = df.shape[0]\n",
    "X = np.hstack([np.ones((m, 1)), df[['Examen_Programacion', 'Examen_Algoritmos']].values])\n",
    "y = df['Contratado'].values.reshape(-1, 1)\n",
    "initial_theta = np.zeros((X.shape[1], 1))\n",
    "\n",
    "# 3. Función sigmoide\n",
    "def sigmoid(z):\n",
    "    return 1 / (1 + np.exp(-z))\n",
    "\n",
    "# 4. Función de costo y gradiente (adaptada a nuestro ejercicio)\n",
    "def compute_cost(theta, X, y):\n",
    "    m = len(y)\n",
    "    h = sigmoid(X.dot(theta))\n",
    "    J = (1/m) * (-y.T.dot(np.log(h)) - (1-y).T.dot(np.log(1-h)))\n",
    "    grad = (1/m) * X.T.dot(h - y)\n",
    "    return J, grad\n",
    "\n",
    "# 5. Cálculo e impresión de resultados\n",
    "cost, grad = compute_cost(initial_theta, X, y)\n",
    "\n",
    "print(\"Costo en theta inicial (ceros):\", cost)\n",
    "print(\"Costo esperado (aprox): 0.693\")\n",
    "print(\"\\nGradiente en theta inicial (ceros):\")\n",
    "print(grad)\n",
    "print(\"Gradientes esperados (aprox):\")\n",
    "print(\" -0.1000\")\n",
    "print(\" -12.0092\")\n",
    "print(\" -11.2628\")\n",
    "\n",
    "# 6. Resultado numérico exacto (opcional)\n",
    "print(\"\\nResultados numéricos exactos:\")\n",
    "print(f\"Costo: {cost.item():.6f}\")\n",
    "print(\"Gradiente:\")\n",
    "for i, g in enumerate(grad.flatten()):\n",
    "    print(f\"θ{i}: {g:.6f}\")"
   ]
  },
  {
   "cell_type": "code",
   "execution_count": 13,
   "id": "a61ca5dd-2fe4-44d9-a2c6-011f68f9fd24",
   "metadata": {},
   "outputs": [
    {
     "name": "stdout",
     "output_type": "stream",
     "text": [
      "Costo en theta de prueba: 1.2552579156284818\n",
      "Costo esperado (aprox): 0.218\n",
      "\n",
      "Gradiente en theta de prueba:\n",
      "[ 0.33325062  0.33332583  0.33331663  0.21413041  0.33332719  0.32883706\n",
      " 22.82671596 22.83273297 22.83199722 13.29709957 22.8328418  22.47363148\n",
      " 23.3264678  23.33271046 23.33194712 13.43949081 23.33282337 22.96014266]\n",
      "Gradientes esperados (aprox):\n",
      " 0.043\n",
      " 2.566\n",
      " 2.647\n"
     ]
    }
   ],
   "source": [
    "import numpy as np\n",
    "import pandas as pd\n",
    "\n",
    "# 1. Definimos la función sigmoidea\n",
    "def sigmoid(z):\n",
    "    return 1 / (1 + np.exp(-z))\n",
    "\n",
    "# 2. Implementamos la función de costo (versión completa)\n",
    "def funcion_costo(theta, X, y, lambda_reg=0):\n",
    "    \"\"\"\n",
    "    Calcula costo y gradiente para regresión logística\n",
    "    \n",
    "    Parámetros:\n",
    "    theta -- vector de parámetros (n+1, 1)\n",
    "    X -- matriz de características (m, n+1)\n",
    "    y -- vector de etiquetas (m, 1)\n",
    "    lambda_reg -- parámetro de regularización (default 0)\n",
    "    \n",
    "    Retorna:\n",
    "    J -- valor del costo\n",
    "    grad -- vector gradiente (n+1, 1)\n",
    "    \"\"\"\n",
    "    m = len(y)\n",
    "    h = sigmoid(X.dot(theta))\n",
    "    \n",
    "    # Cálculo del costo\n",
    "    term1 = -y.T.dot(np.log(h))\n",
    "    term2 = (1 - y).T.dot(np.log(1 - h))\n",
    "    J = (1/m) * (term1 - term2)\n",
    "    \n",
    "    # Cálculo del gradiente\n",
    "    grad = (1/m) * X.T.dot(h - y)\n",
    "    \n",
    "    return J.item(), grad.flatten()\n",
    "\n",
    "# 3. Creamos datos de ejemplo (debes reemplazar con tus datos reales)\n",
    "data = {\n",
    "    'Examen_Programacion': [78, 92, 85, 65, 88, 72],\n",
    "    'Examen_Algoritmos': [89, 87, 90, 65, 92, 75],\n",
    "    'Contratado': [1, 1, 1, 0, 1, 0]\n",
    "}\n",
    "df = pd.DataFrame(data)\n",
    "\n",
    "# 4. Preparamos los datos\n",
    "m = df.shape[0]\n",
    "X = np.hstack([np.ones((m, 1)), df[['Examen_Programacion', 'Examen_Algoritmos']].values])\n",
    "y = df['Contratado'].values.reshape(-1, 1)\n",
    "\n",
    "# 5. Probamos con theta de prueba\n",
    "test_theta = np.array([-24, 0.2, 0.2])  # No necesita reshape ahora\n",
    "cost, grad = funcion_costo(test_theta, X, y)\n",
    "\n",
    "# 6. Mostramos resultados\n",
    "print('Costo en theta de prueba:', cost)\n",
    "print('Costo esperado (aprox): 0.218')\n",
    "print('\\nGradiente en theta de prueba:')\n",
    "print(grad)\n",
    "print('Gradientes esperados (aprox):')\n",
    "print(' 0.043\\n 2.566\\n 2.647')"
   ]
  },
  {
   "cell_type": "code",
   "execution_count": 14,
   "id": "3b3b6e20-6120-4ba6-bb3f-9d710abe3a65",
   "metadata": {},
   "outputs": [
    {
     "data": {
      "text/markdown": [
       "### Código Equivalente usando Scikit-Learn:"
      ],
      "text/plain": [
       "<IPython.core.display.Markdown object>"
      ]
     },
     "metadata": {},
     "output_type": "display_data"
    }
   ],
   "source": [
    "from IPython.display import display, Markdown\n",
    "\n",
    "# Código para insertar solamente el título\n",
    "display(Markdown(\"### Código Equivalente usando Scikit-Learn:\"))"
   ]
  },
  {
   "cell_type": "code",
   "execution_count": 15,
   "id": "19d8debb-944b-4e5d-9a54-4325912376c1",
   "metadata": {
    "scrolled": true
   },
   "outputs": [
    {
     "name": "stdout",
     "output_type": "stream",
     "text": [
      "\n",
      "🔍 Evaluación del Modelo de Contratación (scikit-learn):\n",
      "Precisión: 0.7333\n",
      "\n",
      "Matriz de Confusión:\n",
      "[[ 7  7]\n",
      " [ 1 15]]\n",
      "\n",
      "Reporte Detallado:\n",
      "              precision    recall  f1-score   support\n",
      "\n",
      "           0       0.88      0.50      0.64        14\n",
      "           1       0.68      0.94      0.79        16\n",
      "\n",
      "    accuracy                           0.73        30\n",
      "   macro avg       0.78      0.72      0.71        30\n",
      "weighted avg       0.77      0.73      0.72        30\n",
      "\n",
      "\n",
      "Parámetros del Modelo:\n",
      "Intercepto (θ0): -1.6266\n",
      "Coef. Examen Programación (θ1): 0.2258\n",
      "Coef. Examen Algoritmos (θ2): -0.2036\n"
     ]
    }
   ],
   "source": [
    "# 1. Importar librerías necesarias\n",
    "import numpy as np\n",
    "import pandas as pd\n",
    "from sklearn.linear_model import LogisticRegression\n",
    "from sklearn.metrics import accuracy_score, confusion_matrix, classification_report\n",
    "\n",
    "# 2. Cargar los datos (usando la URL de nuestro proyecto)\n",
    "url = 'https://raw.githubusercontent.com/Carlos01rondon/Ejercicio-Machine-Lerarning-2/main/Datos/datos2_1.txt'\n",
    "df = pd.read_csv(url)\n",
    "\n",
    "# 3. Definir variables (adaptado a nuestros nombres de columnas)\n",
    "X = df[[\"Examen_Programacion\", \"Examen_Algoritmos\"]]  # Características\n",
    "y = df[\"Contratado\"]                                  # Variable objetivo\n",
    "\n",
    "# 4. Crear y ajustar el modelo\n",
    "modelo = LogisticRegression(solver='liblinear', penalty='l2', C=1.0)\n",
    "modelo.fit(X, y)\n",
    "\n",
    "# 5. Generar predicciones\n",
    "df[\"Probabilidad_Contratacion\"] = modelo.predict_proba(X)[:, 1]\n",
    "df[\"Prediccion_Contratado\"] = modelo.predict(X)\n",
    "\n",
    "# 6. Evaluar el modelo\n",
    "print(\"\\n🔍 Evaluación del Modelo de Contratación (scikit-learn):\")\n",
    "print(\"Precisión:\", round(accuracy_score(y, df[\"Prediccion_Contratado\"]), 4))\n",
    "print(\"\\nMatriz de Confusión:\")\n",
    "print(confusion_matrix(y, df[\"Prediccion_Contratado\"]))\n",
    "print(\"\\nReporte Detallado:\")\n",
    "print(classification_report(y, df[\"Prediccion_Contratado\"]))\n",
    "\n",
    "# 7. Coeficientes del modelo\n",
    "print(\"\\nParámetros del Modelo:\")\n",
    "print(f\"Intercepto (θ0): {modelo.intercept_[0]:.4f}\")\n",
    "print(f\"Coef. Examen Programación (θ1): {modelo.coef_[0][0]:.4f}\")\n",
    "print(f\"Coef. Examen Algoritmos (θ2): {modelo.coef_[0][1]:.4f}\")"
   ]
  },
  {
   "cell_type": "code",
   "execution_count": 16,
   "id": "57a20af8-5310-458d-bc21-cbb6ede12d28",
   "metadata": {},
   "outputs": [
    {
     "data": {
      "text/markdown": [
       "### Regresión Logística (Logit clásico) con statsmodels:"
      ],
      "text/plain": [
       "<IPython.core.display.Markdown object>"
      ]
     },
     "metadata": {},
     "output_type": "display_data"
    }
   ],
   "source": [
    "from IPython.display import display, Markdown\n",
    "\n",
    "# Código para insertar solamente el título\n",
    "display(Markdown(\"### Regresión Logística (Logit clásico) con statsmodels:\"))"
   ]
  },
  {
   "cell_type": "code",
   "execution_count": 17,
   "id": "81eb42e0-4433-40ee-b94f-a4857ea3922a",
   "metadata": {
    "scrolled": true
   },
   "outputs": [
    {
     "data": {
      "text/html": [
       "<h1 style='color:#2B547E; font-size:24px'>🔮 Regresión Logística para Predicción de Contratación</h1>"
      ],
      "text/plain": [
       "<IPython.core.display.HTML object>"
      ]
     },
     "metadata": {},
     "output_type": "display_data"
    },
    {
     "data": {
      "text/html": [
       "<style type=\"text/css\">\n",
       "#T_2cefe_row0_col0 {\n",
       "  background-color: #84bcdb;\n",
       "  color: #000000;\n",
       "}\n",
       "#T_2cefe_row0_col1 {\n",
       "  background-color: #b5d4e9;\n",
       "  color: #000000;\n",
       "}\n",
       "#T_2cefe_row0_col2, #T_2cefe_row2_col2, #T_2cefe_row4_col0, #T_2cefe_row4_col1, #T_2cefe_row4_col2 {\n",
       "  background-color: #08306b;\n",
       "  color: #f1f1f1;\n",
       "}\n",
       "#T_2cefe_row1_col0, #T_2cefe_row1_col2, #T_2cefe_row3_col1, #T_2cefe_row3_col2 {\n",
       "  background-color: #f7fbff;\n",
       "  color: #000000;\n",
       "}\n",
       "#T_2cefe_row1_col1 {\n",
       "  background-color: #d9e8f5;\n",
       "  color: #000000;\n",
       "}\n",
       "#T_2cefe_row2_col0 {\n",
       "  background-color: #0e58a2;\n",
       "  color: #f1f1f1;\n",
       "}\n",
       "#T_2cefe_row2_col1 {\n",
       "  background-color: #2f7fbc;\n",
       "  color: #f1f1f1;\n",
       "}\n",
       "#T_2cefe_row3_col0 {\n",
       "  background-color: #d8e7f5;\n",
       "  color: #000000;\n",
       "}\n",
       "</style>\n",
       "<table id=\"T_2cefe\">\n",
       "  <caption>📊 Dataset Original</caption>\n",
       "  <thead>\n",
       "    <tr>\n",
       "      <th class=\"blank level0\" >&nbsp;</th>\n",
       "      <th id=\"T_2cefe_level0_col0\" class=\"col_heading level0 col0\" >Examen_Programacion</th>\n",
       "      <th id=\"T_2cefe_level0_col1\" class=\"col_heading level0 col1\" >Examen_Algoritmos</th>\n",
       "      <th id=\"T_2cefe_level0_col2\" class=\"col_heading level0 col2\" >contratado</th>\n",
       "    </tr>\n",
       "  </thead>\n",
       "  <tbody>\n",
       "    <tr>\n",
       "      <th id=\"T_2cefe_level0_row0\" class=\"row_heading level0 row0\" >1</th>\n",
       "      <td id=\"T_2cefe_row0_col0\" class=\"data row0 col0\" >72.000000</td>\n",
       "      <td id=\"T_2cefe_row0_col1\" class=\"data row0 col1\" >65.000000</td>\n",
       "      <td id=\"T_2cefe_row0_col2\" class=\"data row0 col2\" >1.000000</td>\n",
       "    </tr>\n",
       "    <tr>\n",
       "      <th id=\"T_2cefe_level0_row1\" class=\"row_heading level0 row1\" >2</th>\n",
       "      <td id=\"T_2cefe_row1_col0\" class=\"data row1 col0\" >58.000000</td>\n",
       "      <td id=\"T_2cefe_row1_col1\" class=\"data row1 col1\" >60.000000</td>\n",
       "      <td id=\"T_2cefe_row1_col2\" class=\"data row1 col2\" >0.000000</td>\n",
       "    </tr>\n",
       "    <tr>\n",
       "      <th id=\"T_2cefe_level0_row2\" class=\"row_heading level0 row2\" >3</th>\n",
       "      <td id=\"T_2cefe_row2_col0\" class=\"data row2 col0\" >85.000000</td>\n",
       "      <td id=\"T_2cefe_row2_col1\" class=\"data row2 col1\" >78.000000</td>\n",
       "      <td id=\"T_2cefe_row2_col2\" class=\"data row2 col2\" >1.000000</td>\n",
       "    </tr>\n",
       "    <tr>\n",
       "      <th id=\"T_2cefe_level0_row3\" class=\"row_heading level0 row3\" >4</th>\n",
       "      <td id=\"T_2cefe_row3_col0\" class=\"data row3 col0\" >63.000000</td>\n",
       "      <td id=\"T_2cefe_row3_col1\" class=\"data row3 col1\" >55.000000</td>\n",
       "      <td id=\"T_2cefe_row3_col2\" class=\"data row3 col2\" >0.000000</td>\n",
       "    </tr>\n",
       "    <tr>\n",
       "      <th id=\"T_2cefe_level0_row4\" class=\"row_heading level0 row4\" >5</th>\n",
       "      <td id=\"T_2cefe_row4_col0\" class=\"data row4 col0\" >90.000000</td>\n",
       "      <td id=\"T_2cefe_row4_col1\" class=\"data row4 col1\" >88.000000</td>\n",
       "      <td id=\"T_2cefe_row4_col2\" class=\"data row4 col2\" >1.000000</td>\n",
       "    </tr>\n",
       "  </tbody>\n",
       "</table>\n"
      ],
      "text/plain": [
       "<pandas.io.formats.style.Styler at 0x225355776e0>"
      ]
     },
     "metadata": {},
     "output_type": "display_data"
    },
    {
     "data": {
      "text/html": [
       "\n",
       "    <div style='background-color:#E6F3FF; padding:10px; border-radius:5px; margin:10px 0'>\n",
       "    <b>Distribución de clases:</b><br>\n",
       "    No Contratado: 46.7%<br>\n",
       "    Contratado: 53.3%\n",
       "    </div>\n",
       "    "
      ],
      "text/plain": [
       "<IPython.core.display.HTML object>"
      ]
     },
     "metadata": {},
     "output_type": "display_data"
    },
    {
     "data": {
      "text/markdown": [
       "## 🛠️ Modelo con `statsmodels` + Estandarización"
      ],
      "text/plain": [
       "<IPython.core.display.Markdown object>"
      ]
     },
     "metadata": {},
     "output_type": "display_data"
    },
    {
     "data": {
      "text/html": [
       "<div style='border:2px solid #2B547E; padding:10px; border-radius:5px'>"
      ],
      "text/plain": [
       "<IPython.core.display.HTML object>"
      ]
     },
     "metadata": {},
     "output_type": "display_data"
    },
    {
     "data": {
      "text/markdown": [
       "**📌 Resumen del Modelo con `statsmodels`:**"
      ],
      "text/plain": [
       "<IPython.core.display.Markdown object>"
      ]
     },
     "metadata": {},
     "output_type": "display_data"
    },
    {
     "name": "stdout",
     "output_type": "stream",
     "text": [
      "                           Logit Regression Results                           \n",
      "==============================================================================\n",
      "Dep. Variable:             contratado   No. Observations:                   30\n",
      "Model:                          Logit   Df Residuals:                       27\n",
      "Method:                           MLE   Df Model:                            2\n",
      "Date:                Mon, 23 Jun 2025   Pseudo R-squ.:                   1.000\n",
      "Time:                        21:24:28   Log-Likelihood:            -2.9666e-05\n",
      "converged:                       True   LL-Null:                       -20.728\n",
      "Covariance Type:            nonrobust   LLR p-value:                 9.956e-10\n",
      "==============================================================================\n",
      "                 coef    std err          z      P>|z|      [0.025      0.975]\n",
      "------------------------------------------------------------------------------\n",
      "const         57.9431   1.86e+10   3.11e-09      1.000   -3.65e+10    3.65e+10\n",
      "x1           174.6032   2.55e+10   6.84e-09      1.000   -5.01e+10    5.01e+10\n",
      "x2           143.6118   5.35e+10   2.68e-09      1.000   -1.05e+11    1.05e+11\n",
      "==============================================================================\n",
      "\n",
      "Complete Separation: The results show that there iscomplete separation or perfect prediction.\n",
      "In this case the Maximum Likelihood Estimator does not exist and the parameters\n",
      "are not identified.\n"
     ]
    },
    {
     "data": {
      "text/html": [
       "</div>"
      ],
      "text/plain": [
       "<IPython.core.display.HTML object>"
      ]
     },
     "metadata": {},
     "output_type": "display_data"
    },
    {
     "data": {
      "text/html": [
       "\n",
       "        <div style='background-color:#E8F5E9; padding:10px; border-radius:5px; margin:15px 0'>\n",
       "        <h3 style='color:#2E7D32'>📈 Métricas de Desempeño</h3>\n",
       "        <table style='width:80%'>\n",
       "            <tr><td><b>Exactitud (Accuracy):</b></td><td>100.00%</td></tr>\n",
       "            <tr><td><b>Verdaderos Positivos:</b></td><td>16</td></tr>\n",
       "            <tr><td><b>Falsos Positivos:</b></td><td>0</td></tr>\n",
       "            <tr><td><b>Verdaderos Negativos:</b></td><td>14</td></tr>\n",
       "            <tr><td><b>Falsos Negativos:</b></td><td>0</td></tr>\n",
       "        </table>\n",
       "        </div>\n",
       "        "
      ],
      "text/plain": [
       "<IPython.core.display.HTML object>"
      ]
     },
     "metadata": {},
     "output_type": "display_data"
    },
    {
     "data": {
      "text/html": [
       "<style type=\"text/css\">\n",
       "#T_043ef_row0_col0, #T_043ef_row1_col1 {\n",
       "  background-color: #08306b;\n",
       "  color: #f1f1f1;\n",
       "}\n",
       "#T_043ef_row0_col1, #T_043ef_row1_col0 {\n",
       "  background-color: #f7fbff;\n",
       "  color: #000000;\n",
       "}\n",
       "</style>\n",
       "<table id=\"T_043ef\">\n",
       "  <thead>\n",
       "    <tr>\n",
       "      <th class=\"blank level0\" >&nbsp;</th>\n",
       "      <th id=\"T_043ef_level0_col0\" class=\"col_heading level0 col0\" >Pred No</th>\n",
       "      <th id=\"T_043ef_level0_col1\" class=\"col_heading level0 col1\" >Pred Sí</th>\n",
       "    </tr>\n",
       "  </thead>\n",
       "  <tbody>\n",
       "    <tr>\n",
       "      <th id=\"T_043ef_level0_row0\" class=\"row_heading level0 row0\" >Real No</th>\n",
       "      <td id=\"T_043ef_row0_col0\" class=\"data row0 col0\" >14</td>\n",
       "      <td id=\"T_043ef_row0_col1\" class=\"data row0 col1\" >0</td>\n",
       "    </tr>\n",
       "    <tr>\n",
       "      <th id=\"T_043ef_level0_row1\" class=\"row_heading level0 row1\" >Real Sí</th>\n",
       "      <td id=\"T_043ef_row1_col0\" class=\"data row1 col0\" >0</td>\n",
       "      <td id=\"T_043ef_row1_col1\" class=\"data row1 col1\" >16</td>\n",
       "    </tr>\n",
       "  </tbody>\n",
       "</table>\n"
      ],
      "text/plain": [
       "<pandas.io.formats.style.Styler at 0x22535aa3bc0>"
      ]
     },
     "metadata": {},
     "output_type": "display_data"
    },
    {
     "data": {
      "text/markdown": [
       "**💾 Resultados exportados a:** `resultados_modelo_contratacion.csv`"
      ],
      "text/plain": [
       "<IPython.core.display.Markdown object>"
      ]
     },
     "metadata": {},
     "output_type": "display_data"
    }
   ],
   "source": [
    "# ---------------------------------------------\n",
    "# 🔧 1. Librerías necesarias\n",
    "from IPython.display import display, Markdown, HTML\n",
    "import numpy as np\n",
    "import pandas as pd\n",
    "import statsmodels.api as sm\n",
    "from sklearn.linear_model import LogisticRegression\n",
    "from sklearn.metrics import accuracy_score, confusion_matrix\n",
    "from sklearn.preprocessing import StandardScaler\n",
    "import warnings\n",
    "\n",
    "# ---------------------------------------------\n",
    "# 🎯 2. Configuración visual y warnings\n",
    "display(HTML(\"<h1 style='color:#2B547E; font-size:24px'>🔮 Regresión Logística para Predicción de Contratación</h1>\"))\n",
    "warnings.filterwarnings('ignore', category=sm.tools.sm_exceptions.ConvergenceWarning)\n",
    "warnings.filterwarnings('ignore', category=sm.tools.sm_exceptions.PerfectSeparationWarning)\n",
    "\n",
    "# ---------------------------------------------\n",
    "# 📥 3. Carga y verificación de los datos\n",
    "url = 'https://raw.githubusercontent.com/Carlos01rondon/Ejercicio-Machine-Lerarning-2/main/Datos/datos2_1.txt'\n",
    "try:\n",
    "    df = pd.read_csv(url, sep=\",\", header=None)\n",
    "    df.columns = ['Examen_Programacion', 'Examen_Algoritmos', 'contratado']\n",
    "    \n",
    "    # Limpieza y verificación\n",
    "    df = df.apply(pd.to_numeric, errors='coerce').dropna()\n",
    "    display(df.head().style.set_caption(\"📊 Dataset Original\").background_gradient(cmap='Blues'))\n",
    "    \n",
    "    # Verificación de balance de clases\n",
    "    class_balance = df['contratado'].value_counts(normalize=True)\n",
    "    display(HTML(f\"\"\"\n",
    "    <div style='background-color:#E6F3FF; padding:10px; border-radius:5px; margin:10px 0'>\n",
    "    <b>Distribución de clases:</b><br>\n",
    "    No Contratado: {class_balance[0]:.1%}<br>\n",
    "    Contratado: {class_balance[1]:.1%}\n",
    "    </div>\n",
    "    \"\"\"))\n",
    "    \n",
    "except Exception as e:\n",
    "    display(HTML(f\"<div style='color:red; font-weight:bold'>Error al cargar datos: {str(e)}</div>\"))\n",
    "    raise\n",
    "\n",
    "# ---------------------------------------------\n",
    "# ⚙️ 4. Estandarización y modelo con statsmodels\n",
    "display(Markdown(\"## 🛠️ Modelo con `statsmodels` + Estandarización\"))\n",
    "\n",
    "scaler = StandardScaler()\n",
    "X_std = scaler.fit_transform(df[['Examen_Programacion', 'Examen_Algoritmos']])\n",
    "X_std = sm.add_constant(X_std)\n",
    "y = df['contratado']\n",
    "\n",
    "try:\n",
    "    logit_model = sm.Logit(y, X_std)\n",
    "    result = logit_model.fit(method='bfgs', maxiter=1000, gtol=1e-6, disp=0)  # ← CORREGIDO\n",
    "    \n",
    "    display(HTML(\"<div style='border:2px solid #2B547E; padding:10px; border-radius:5px'>\"))\n",
    "    display(Markdown(\"**📌 Resumen del Modelo con `statsmodels`:**\"))\n",
    "    print(result.summary())\n",
    "    display(HTML(\"</div>\"))\n",
    "    \n",
    "    # Predicciones\n",
    "    df[\"probabilidad\"] = result.predict(X_std)\n",
    "    df[\"prediccion\"] = (df[\"probabilidad\"] >= 0.5).astype(int)\n",
    "\n",
    "    def display_metrics(y_true, y_pred):\n",
    "        accuracy = accuracy_score(y_true, y_pred)\n",
    "        cm = confusion_matrix(y_true, y_pred)\n",
    "\n",
    "        display(HTML(f\"\"\"\n",
    "        <div style='background-color:#E8F5E9; padding:10px; border-radius:5px; margin:15px 0'>\n",
    "        <h3 style='color:#2E7D32'>📈 Métricas de Desempeño</h3>\n",
    "        <table style='width:80%'>\n",
    "            <tr><td><b>Exactitud (Accuracy):</b></td><td>{accuracy:.2%}</td></tr>\n",
    "            <tr><td><b>Verdaderos Positivos:</b></td><td>{cm[1,1]}</td></tr>\n",
    "            <tr><td><b>Falsos Positivos:</b></td><td>{cm[0,1]}</td></tr>\n",
    "            <tr><td><b>Verdaderos Negativos:</b></td><td>{cm[0,0]}</td></tr>\n",
    "            <tr><td><b>Falsos Negativos:</b></td><td>{cm[1,0]}</td></tr>\n",
    "        </table>\n",
    "        </div>\n",
    "        \"\"\"))\n",
    "\n",
    "        cm_df = pd.DataFrame(cm, index=['Real No', 'Real Sí'], columns=['Pred No', 'Pred Sí'])\n",
    "        display(cm_df.style.background_gradient(cmap='Blues'))\n",
    "\n",
    "    display_metrics(y, df[\"prediccion\"])\n",
    "    \n",
    "except Exception as e:\n",
    "    display(HTML(f\"<div style='color:red; font-weight:bold'>Error con modelo estandarizado: {str(e)}</div>\"))\n",
    "    display(Markdown(\"### Intentando modelo alternativo...\"))\n",
    "\n",
    "    # Modelo alternativo penalizado\n",
    "    X = df[['Examen_Programacion', 'Examen_Algoritmos']]\n",
    "    y = df['contratado']\n",
    "\n",
    "    log_reg = LogisticRegression(\n",
    "        penalty='l2',\n",
    "        C=0.1,\n",
    "        solver='lbfgs',\n",
    "        max_iter=1000,\n",
    "        random_state=42\n",
    "    )\n",
    "\n",
    "    log_reg.fit(X, y)\n",
    "\n",
    "    coef_df = pd.DataFrame({\n",
    "        'Variable': ['Intercepto', 'Examen_Programacion', 'Examen_Algoritmos'],\n",
    "        'Coeficiente': [log_reg.intercept_[0]] + list(log_reg.coef_[0])\n",
    "    })\n",
    "\n",
    "    display(coef_df.style.set_caption(\"📉 Coeficientes del Modelo Penalizado\").background_gradient(cmap='Blues'))\n",
    "\n",
    "    y_pred = log_reg.predict(X)\n",
    "    display_metrics(y, y_pred)\n",
    "\n",
    "    display(Markdown(\"\"\"\n",
    "    **💡 Interpretación:**\n",
    "    - Coeficientes más conservadores debido a la regularización\n",
    "    - El modelo es menos susceptible a separación perfecta\n",
    "    - Mejor generalización a nuevos datos\n",
    "    \"\"\"))\n",
    "\n",
    "# ---------------------------------------------\n",
    "# 💾 5. Exportación de resultados\n",
    "try:\n",
    "    df.to_csv('resultados_modelo_contratacion.csv', index=False)\n",
    "    display(Markdown(\"**💾 Resultados exportados a:** `resultados_modelo_contratacion.csv`\"))\n",
    "except:\n",
    "    display(Markdown(\"⚠️ **No se pudo exportar los resultados**\"))\n",
    "\n"
   ]
  },
  {
   "cell_type": "code",
   "execution_count": 18,
   "id": "b47edcc2-2438-42c3-9735-b624c9bd4965",
   "metadata": {
    "scrolled": true
   },
   "outputs": [
    {
     "data": {
      "image/png": "[encoded data removed]",
      "text/plain": [
       "<Figure size 800x600 with 1 Axes>"
      ]
     },
     "metadata": {},
     "output_type": "display_data"
    }
   ],
   "source": [
    "from sklearn.metrics import roc_curve, roc_auc_score\n",
    "import matplotlib.pyplot as plt\n",
    "\n",
    "# 10. Calcular valores para la curva ROC\n",
    "fpr, tpr, thresholds = roc_curve(y, df[\"probabilidad\"])\n",
    "roc_auc = roc_auc_score(y, df[\"probabilidad\"])\n",
    "\n",
    "# 11. Graficar la curva ROC\n",
    "plt.figure(figsize=(8,6))\n",
    "plt.plot(fpr, tpr, color='darkorange', lw=2, label=f'ROC curve (AUC = {roc_auc:.2f})')\n",
    "plt.plot([0, 1], [0, 1], color='navy', lw=2, linestyle='--', label='Random')\n",
    "plt.xlim([0.0, 1.0])\n",
    "plt.ylim([0.0, 1.05])\n",
    "plt.xlabel('Tasa de Falsos Positivos (FPR)')\n",
    "plt.ylabel('Tasa de Verdaderos Positivos (TPR)')\n",
    "plt.title('Curva ROC - Regresión Logística (statsmodels)')\n",
    "plt.legend(loc=\"lower right\")\n",
    "plt.grid(True)\n",
    "plt.show()"
   ]
  },
  {
   "cell_type": "code",
   "execution_count": null,
   "id": "e5bf04bb-cb2d-42bb-9cef-213479cfa0df",
   "metadata": {},
   "outputs": [],
   "source": []
  },
  {
   "cell_type": "code",
   "execution_count": null,
   "id": "9becec5b-3c30-4904-9ce9-551529576bba",
   "metadata": {},
   "outputs": [],
   "source": []
  }
 ],
 "metadata": {
  "kernelspec": {
   "display_name": "Python 3 (ipykernel)",
   "language": "python",
   "name": "python3"
  },
  "language_info": {
   "codemirror_mode": {
    "name": "ipython",
    "version": 3
   },
   "file_extension": ".py",
   "mimetype": "text/x-python",
   "name": "python",
   "nbconvert_exporter": "python",
   "pygments_lexer": "ipython3",
   "version": "3.12.7"
  }
 },
 "nbformat": 4,
 "nbformat_minor": 5
}
